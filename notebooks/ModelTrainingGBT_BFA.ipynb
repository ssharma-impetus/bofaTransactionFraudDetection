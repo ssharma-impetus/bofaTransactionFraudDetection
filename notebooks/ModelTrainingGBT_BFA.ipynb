{
 "cells": [
  {
   "cell_type": "code",
   "execution_count": 30,
   "metadata": {
    "autoscroll": false,
    "hide_input": true,
    "init_cell": true
   },
   "outputs": [
    {
     "data": {
      "application/javascript": [
       "function clear_other_cells () {\n",
       "document.getElementById('file_menu').parentNode.style.display = 'none';\n",
       "document.getElementById('logout').style.display = 'none';\n",
       "document.getElementById('notebook_name').style.display = 'none';\n",
       "var this_cell = $(element).closest('.cell').data('cell');\n",
       "Jupyter.notebook.get_cells().forEach(function (cell) {\n",
       "if (cell.cell_type === 'code' && cell !== this_cell) {\n",
       "cell.clear_output();\n",
       "}\n",
       "Jupyter.notebook.set_dirty(true);\n",
       "});\n",
       "};\n",
       "$([IPython.events]).on('notebook_loaded.Notebook', clear_other_cells());\n",
       "$(window).on(\"beforeunload\", function(){\n",
       "Jupyter.notebook.kernel.restart();\n",
       "});"
      ],
      "text/plain": [
       "<IPython.core.display.Javascript object>"
      ]
     },
     "metadata": {},
     "output_type": "display_data"
    }
   ],
   "source": [
    "%%javascript\n",
    "function clear_other_cells () {\n",
    "document.getElementById('file_menu').parentNode.style.display = 'none';\n",
    "document.getElementById('logout').style.display = 'none';\n",
    "document.getElementById('notebook_name').style.display = 'none';\n",
    "var this_cell = $(element).closest('.cell').data('cell');\n",
    "Jupyter.notebook.get_cells().forEach(function (cell) {\n",
    "if (cell.cell_type === 'code' && cell !== this_cell) {\n",
    "cell.clear_output();\n",
    "}\n",
    "Jupyter.notebook.set_dirty(true);\n",
    "});\n",
    "};\n",
    "$([IPython.events]).on('notebook_loaded.Notebook', clear_other_cells());\n",
    "$(window).on(\"beforeunload\", function(){\n",
    "Jupyter.notebook.kernel.restart();\n",
    "});\n"
   ]
  },
  {
   "cell_type": "markdown",
   "metadata": {
    "autoscroll": false
   },
   "source": [
    "<ul style=\"list-style-type:circle;font-size:14px;line-height:27px;\">\n",
    "    <li><b>from streamanalytix.python.dataset import Dataset:</b> Load Dataset class from streamanalytix API.</li>\n",
    "\t<li><b>Dataset(source_name):</b> Creates object of dataset class for given source.\n",
    "\t\t<ul>\n",
    "\t\t\t<li><b>Dataset.get_dataframe():</b> Read data source and return a pandas dataframe. </li>\n",
    "\t\t</ul>\n",
    "\t</li>\n",
    "\t<li><b>from streamanalytix.utilities import sax_utils:</b> Load sax_util script. It has following functions\n",
    "\t\t<ul>\n",
    "\t\t\t<li><b>sax_utils.save_and_download_model(model_name, model_object):</b>This method lets the user to save and download the trained model with StreamAnalytix. This model can than be used for training and/or scoring purpose as part of the StreamAnalytix pipeline</li>\n",
    "\t\t\t\t<ul>\n",
    "\t\t\t\t\t<li><b>model_name:</b> Name of the model. Accepted String value only. e.g. <i>\"DecisionTreeModel\"</i></li>\n",
    "\t\t\t\t\t<li><b>model_object:</b> Object of the trained model</li>\n",
    "\t\t\t\t</ul>\n",
    "\t\t\t<li><b>sax_utils.get_h2o_cluster_url(cluster_name):</b>This method lets the user to get h2o cluster url by providing cluster name</li>\n",
    "\t\t\t\t<ul>\n",
    "\t\t\t\t\t<li><b>cluster_name:</b> Name of the cluster. Accepted String value only. e.g. <i>\"TrainingCluster\"</i></li>\n",
    "\t\t\t\t</ul>\n",
    "\t\t\t<li><b>sax_utils.upload_and_register_h2o_model(model_object, model_name, model_type, project_name, project_version):</b>This method lets the user to upload and register h2o model in 'mojo' format in streamanalytix</li>\n",
    "\t\t\t\t<ul>\n",
    "\t\t\t\t\t<li><b>model_object:</b> Object of trained H2O model</li>\n",
    "\t\t\t\t\t<li><b>model_name:</b>Name of the model. Accepted String value only. e.g. <i>\"H2OTreeModel\"</i>\n",
    "\t\t\t\t\t<li><b>model_type:</b>Type of trained model. Accepted String value only. We support H2O model of types :<i>\"DistributedRandomForest\"</i>,<i>\"GeneralizedLinearModelling\"</i>,<i>\"IsolationForest\"</i>,<i>\"GradientBoostingMachine\"</i></li>\n",
    "\t\t\t\t\t<li><b>project_name:</b>Project Name in which model should register. Accepted String value only. e.g. <i>\"MyProject\"</i></li>\n",
    "\t\t\t\t\t<li><b>project_version:</b>Version of given project in which model should register</li>\n",
    "\t\t\t\t</ul>\n",
    "\t\t</ul>\n",
    "\t</li>\n",
    "</ul>\n"
   ]
  },
  {
   "cell_type": "code",
   "execution_count": 31,
   "metadata": {
    "autoscroll": false
   },
   "outputs": [
    {
     "name": "stdout",
     "output_type": "stream",
     "text": [
      "Dataframe created\n",
      "Connecting to H2O server at http://192.168.7.49:54323 ....... failed.\n"
     ]
    },
    {
     "ename": "H2OConnectionError",
     "evalue": "Could not establish link to the H2O cloud http://192.168.7.49:54323 after 5 retries\n[04:02.08] H2OConnectionError: Unexpected HTTP error: HTTPConnectionPool(host='192.168.7.49', port=54323): Max retries exceeded with url: /3/Cloud (Caused by NewConnectionError('<urllib3.connection.HTTPConnection object at 0x7f611f9a7750>: Failed to establish a new connection: [Errno 111] Connection refused',))\n[04:02.28] H2OConnectionError: Unexpected HTTP error: HTTPConnectionPool(host='192.168.7.49', port=54323): Max retries exceeded with url: /3/Cloud (Caused by NewConnectionError('<urllib3.connection.HTTPConnection object at 0x7f60f7fcc710>: Failed to establish a new connection: [Errno 111] Connection refused',))\n[04:02.50] H2OConnectionError: Unexpected HTTP error: HTTPConnectionPool(host='192.168.7.49', port=54323): Max retries exceeded with url: /3/Cloud (Caused by NewConnectionError('<urllib3.connection.HTTPConnection object at 0x7f611f9a7c50>: Failed to establish a new connection: [Errno 111] Connection refused',))\n[04:02.71] H2OConnectionError: Unexpected HTTP error: HTTPConnectionPool(host='192.168.7.49', port=54323): Max retries exceeded with url: /3/Cloud (Caused by NewConnectionError('<urllib3.connection.HTTPConnection object at 0x7f611f9a7910>: Failed to establish a new connection: [Errno 111] Connection refused',))\n[04:02.91] H2OConnectionError: Unexpected HTTP error: HTTPConnectionPool(host='192.168.7.49', port=54323): Max retries exceeded with url: /3/Cloud (Caused by NewConnectionError('<urllib3.connection.HTTPConnection object at 0x7f611f9a7310>: Failed to establish a new connection: [Errno 111] Connection refused',))",
     "output_type": "error",
     "traceback": [
      "\u001b[0;31m---------------------------------------------------------------------------\u001b[0m",
      "\u001b[0;31mH2OConnectionError\u001b[0m                        Traceback (most recent call last)",
      "\u001b[0;32m<ipython-input-31-aad527a876ef>\u001b[0m in \u001b[0;36m<module>\u001b[0;34m()\u001b[0m\n\u001b[1;32m      9\u001b[0m \u001b[0;32mimport\u001b[0m \u001b[0mh2o\u001b[0m\u001b[0;34m\u001b[0m\u001b[0m\n\u001b[1;32m     10\u001b[0m \u001b[0mh2o_server_url\u001b[0m \u001b[0;34m=\u001b[0m \u001b[0msax_utils\u001b[0m\u001b[0;34m.\u001b[0m\u001b[0mget_h2o_cluster_url\u001b[0m\u001b[0;34m(\u001b[0m\u001b[0;34m\"H2OModelNotebookEnv\"\u001b[0m\u001b[0;34m)\u001b[0m\u001b[0;34m\u001b[0m\u001b[0m\n\u001b[0;32m---> 11\u001b[0;31m \u001b[0mh2o\u001b[0m\u001b[0;34m.\u001b[0m\u001b[0mconnect\u001b[0m\u001b[0;34m(\u001b[0m\u001b[0murl\u001b[0m\u001b[0;34m=\u001b[0m\u001b[0mh2o_server_url\u001b[0m\u001b[0;34m)\u001b[0m\u001b[0;34m\u001b[0m\u001b[0m\n\u001b[0m\u001b[1;32m     12\u001b[0m \u001b[0;32mprint\u001b[0m\u001b[0;34m(\u001b[0m\u001b[0mh2o\u001b[0m\u001b[0;34m.\u001b[0m\u001b[0mcluster_status\u001b[0m\u001b[0;34m)\u001b[0m\u001b[0;34m\u001b[0m\u001b[0m\n",
      "\u001b[0;32m/data/data1/DSc_build/python/packages/h2olib/h2o/h2o.pyc\u001b[0m in \u001b[0;36mconnect\u001b[0;34m(server, url, ip, port, https, verify_ssl_certificates, cacert, auth, proxy, cookies, verbose, config)\u001b[0m\n\u001b[1;32m     87\u001b[0m                                      \u001b[0mauth\u001b[0m\u001b[0;34m=\u001b[0m\u001b[0mauth\u001b[0m\u001b[0;34m,\u001b[0m \u001b[0mverify_ssl_certificates\u001b[0m\u001b[0;34m=\u001b[0m\u001b[0mverify_ssl_certificates\u001b[0m\u001b[0;34m,\u001b[0m \u001b[0mcacert\u001b[0m\u001b[0;34m=\u001b[0m\u001b[0mcacert\u001b[0m\u001b[0;34m,\u001b[0m\u001b[0;34m\u001b[0m\u001b[0m\n\u001b[1;32m     88\u001b[0m                                      \u001b[0mproxy\u001b[0m\u001b[0;34m=\u001b[0m\u001b[0mproxy\u001b[0m\u001b[0;34m,\u001b[0m \u001b[0mcookies\u001b[0m\u001b[0;34m=\u001b[0m\u001b[0mcookies\u001b[0m\u001b[0;34m,\u001b[0m\u001b[0;34m\u001b[0m\u001b[0m\n\u001b[0;32m---> 89\u001b[0;31m                                      verbose=verbose)\n\u001b[0m\u001b[1;32m     90\u001b[0m         \u001b[0;32mif\u001b[0m \u001b[0mverbose\u001b[0m\u001b[0;34m:\u001b[0m\u001b[0;34m\u001b[0m\u001b[0m\n\u001b[1;32m     91\u001b[0m             \u001b[0mh2oconn\u001b[0m\u001b[0;34m.\u001b[0m\u001b[0mcluster\u001b[0m\u001b[0;34m.\u001b[0m\u001b[0mshow_status\u001b[0m\u001b[0;34m(\u001b[0m\u001b[0;34m)\u001b[0m\u001b[0;34m\u001b[0m\u001b[0m\n",
      "\u001b[0;32m/data/data1/DSc_build/python/packages/h2olib/h2o/backend/connection.pyc\u001b[0m in \u001b[0;36mopen\u001b[0;34m(server, url, ip, port, name, https, auth, verify_ssl_certificates, cacert, proxy, cookies, verbose, _msgs)\u001b[0m\n\u001b[1;32m    346\u001b[0m             \u001b[0mconn\u001b[0m\u001b[0;34m.\u001b[0m\u001b[0m_stage\u001b[0m \u001b[0;34m=\u001b[0m \u001b[0;36m1\u001b[0m\u001b[0;34m\u001b[0m\u001b[0m\n\u001b[1;32m    347\u001b[0m             \u001b[0mconn\u001b[0m\u001b[0;34m.\u001b[0m\u001b[0m_timeout\u001b[0m \u001b[0;34m=\u001b[0m \u001b[0;36m3.0\u001b[0m\u001b[0;34m\u001b[0m\u001b[0m\n\u001b[0;32m--> 348\u001b[0;31m             \u001b[0mconn\u001b[0m\u001b[0;34m.\u001b[0m\u001b[0m_cluster\u001b[0m \u001b[0;34m=\u001b[0m \u001b[0mconn\u001b[0m\u001b[0;34m.\u001b[0m\u001b[0m_test_connection\u001b[0m\u001b[0;34m(\u001b[0m\u001b[0mretries\u001b[0m\u001b[0;34m,\u001b[0m \u001b[0mmessages\u001b[0m\u001b[0;34m=\u001b[0m\u001b[0m_msgs\u001b[0m\u001b[0;34m)\u001b[0m\u001b[0;34m\u001b[0m\u001b[0m\n\u001b[0m\u001b[1;32m    349\u001b[0m             \u001b[0;31m# If a server is unable to respond within 1s, it should be considered a bug. However we disable this\u001b[0m\u001b[0;34m\u001b[0m\u001b[0;34m\u001b[0m\u001b[0m\n\u001b[1;32m    350\u001b[0m             \u001b[0;31m# setting for now, for no good reason other than to ignore all those bugs :(\u001b[0m\u001b[0;34m\u001b[0m\u001b[0;34m\u001b[0m\u001b[0m\n",
      "\u001b[0;32m/data/data1/DSc_build/python/packages/h2olib/h2o/backend/connection.pyc\u001b[0m in \u001b[0;36m_test_connection\u001b[0;34m(self, max_retries, messages)\u001b[0m\n\u001b[1;32m    634\u001b[0m         \u001b[0;32melse\u001b[0m\u001b[0;34m:\u001b[0m\u001b[0;34m\u001b[0m\u001b[0m\n\u001b[1;32m    635\u001b[0m             raise H2OConnectionError(\"Could not establish link to the H2O cloud %s after %d retries\\n%s\"\n\u001b[0;32m--> 636\u001b[0;31m                                      % (self._base_url, max_retries, \"\\n\".join(errors)))\n\u001b[0m\u001b[1;32m    637\u001b[0m \u001b[0;34m\u001b[0m\u001b[0m\n\u001b[1;32m    638\u001b[0m \u001b[0;34m\u001b[0m\u001b[0m\n",
      "\u001b[0;31mH2OConnectionError\u001b[0m: Could not establish link to the H2O cloud http://192.168.7.49:54323 after 5 retries\n[04:02.08] H2OConnectionError: Unexpected HTTP error: HTTPConnectionPool(host='192.168.7.49', port=54323): Max retries exceeded with url: /3/Cloud (Caused by NewConnectionError('<urllib3.connection.HTTPConnection object at 0x7f611f9a7750>: Failed to establish a new connection: [Errno 111] Connection refused',))\n[04:02.28] H2OConnectionError: Unexpected HTTP error: HTTPConnectionPool(host='192.168.7.49', port=54323): Max retries exceeded with url: /3/Cloud (Caused by NewConnectionError('<urllib3.connection.HTTPConnection object at 0x7f60f7fcc710>: Failed to establish a new connection: [Errno 111] Connection refused',))\n[04:02.50] H2OConnectionError: Unexpected HTTP error: HTTPConnectionPool(host='192.168.7.49', port=54323): Max retries exceeded with url: /3/Cloud (Caused by NewConnectionError('<urllib3.connection.HTTPConnection object at 0x7f611f9a7c50>: Failed to establish a new connection: [Errno 111] Connection refused',))\n[04:02.71] H2OConnectionError: Unexpected HTTP error: HTTPConnectionPool(host='192.168.7.49', port=54323): Max retries exceeded with url: /3/Cloud (Caused by NewConnectionError('<urllib3.connection.HTTPConnection object at 0x7f611f9a7910>: Failed to establish a new connection: [Errno 111] Connection refused',))\n[04:02.91] H2OConnectionError: Unexpected HTTP error: HTTPConnectionPool(host='192.168.7.49', port=54323): Max retries exceeded with url: /3/Cloud (Caused by NewConnectionError('<urllib3.connection.HTTPConnection object at 0x7f611f9a7310>: Failed to establish a new connection: [Errno 111] Connection refused',))"
     ]
    }
   ],
   "source": [
    "from streamanalytix.python.dataset import Dataset\n",
    "from streamanalytix.utilities import sax_utils\n",
    "\n",
    "\n",
    "dataset_1 = Dataset(\"dataset_BFA_moneytransactions\")\n",
    "\n",
    "# you can use pandas to create dataframe as shown below\n",
    "df = dataset_1.get_dataframe()\n",
    "import h2o\n",
    "h2o_server_url = sax_utils.get_h2o_cluster_url(\"H2OModelNotebookEnv\")\n",
    "h2o.connect(url=h2o_server_url)\n",
    "print(h2o.cluster_status)"
   ]
  },
  {
   "cell_type": "code",
   "execution_count": null,
   "metadata": {},
   "outputs": [],
   "source": [
    "creditcard_dataset = h2o.H2OFrame(df)\n",
    "creditcard_dataset.head(5)"
   ]
  },
  {
   "cell_type": "code",
   "execution_count": null,
   "metadata": {},
   "outputs": [],
   "source": [
    "print('Count of frauds')\n",
    "print(creditcard_dataset.type(\"isFraud\"))\n",
    "creditcard_dataset['isFraud'] = creditcard_dataset['isFraud'].asfactor()\n",
    "print(creditcard_dataset.type(\"isFraud\"))\n",
    "print(df.isFraud.value_counts())\n",
    "print(df.shape)"
   ]
  },
  {
   "cell_type": "code",
   "execution_count": null,
   "metadata": {},
   "outputs": [],
   "source": [
    "# get list of features\n",
    "features = list(creditcard_dataset.columns)\n",
    "features = [feature for feature in features if feature not in ('nameOrig','nameDest','isFraud')]\n",
    "response = 'isFraud'"
   ]
  },
  {
   "cell_type": "code",
   "execution_count": null,
   "metadata": {},
   "outputs": [],
   "source": [
    "creditcard_dataset.anyfactor()\n",
    "creditcard_dataset.columns_by_type(coltype='string')\n",
    "creditcard_dataset.impute(\"type\", method=\"mean\")"
   ]
  },
  {
   "cell_type": "code",
   "execution_count": null,
   "metadata": {},
   "outputs": [],
   "source": [
    "from h2o.estimators.gbm import H2OGradientBoostingEstimator\n",
    "# split into train and validation sets\n",
    "train, valid= creditcard_dataset.split_frame(ratios = [.8], seed = 1234)\n",
    "\n",
    "# try using the `categorical_encoding` parameter:\n",
    "encoding = \"one_hot_explicit\"\n",
    "\n",
    "# initialize the estimator\n",
    "creditcard_dataset_gbm = H2OGradientBoostingEstimator(categorical_encoding = encoding, seed =1234)\n",
    "\n",
    "# then train the model\n",
    "creditcard_dataset_gbm.train(x = features, y = response, training_frame = train, validation_frame = valid)"
   ]
  },
  {
   "cell_type": "code",
   "execution_count": null,
   "metadata": {},
   "outputs": [],
   "source": [
    "sax_utils.upload_and_register_h2o_model(creditcard_dataset_gbm, 'GBTModelFraud_BFA', 'GradientBoostingMachine', 'MoneyFraudDetection' , 1)"
   ]
  },
  {
   "cell_type": "code",
   "execution_count": null,
   "metadata": {},
   "outputs": [],
   "source": [
    "#creditcard_dataset_gbm.download_mojo(path='/home/users/pshah/rashmeet/mobile_fraud_detection_model_bfa/')"
   ]
  }
 ],
 "metadata": {
  "kernelspec": {
   "display_name": "H2OModelPythonEnv",
   "language": "python",
   "name": "h2omodelpythonenv"
  },
  "language_info": {
   "codemirror_mode": {
    "name": "ipython",
    "version": 2
   },
   "file_extension": ".py",
   "mimetype": "text/x-python",
   "name": "python",
   "nbconvert_exporter": "python",
   "pygments_lexer": "ipython2",
   "version": "2.7.5"
  }
 },
 "nbformat": 4,
 "nbformat_minor": 2
}
